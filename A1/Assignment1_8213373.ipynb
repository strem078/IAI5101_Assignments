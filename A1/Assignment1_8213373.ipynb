{
 "cells": [
  {
   "cell_type": "markdown",
   "metadata": {},
   "source": [
    "# IAI5101 Assignment 1\n",
    "## \n",
    "By Simon Tremblay, 8213373\n",
    "\n",
    "This code was written to run with:\n",
    "- Python v3.10\n",
    "- Scikit Learn v1.0.2\n",
    "- MatplotLib \n",
    "- Seaborn 0.11.2"
   ]
  },
  {
   "cell_type": "code",
   "execution_count": 6,
   "metadata": {},
   "outputs": [
    {
     "name": "stdout",
     "output_type": "stream",
     "text": [
      "Running:\n",
      "- Python v3.2\n",
      "- Scikit Learn v1.0.2\n",
      "- Seaborn v0.11.2\n",
      "- Matplot Lib v3.5.1\n"
     ]
    }
   ],
   "source": [
    "import sys\n",
    "import sklearn\n",
    "import seaborn\n",
    "import matplotlib\n",
    "\n",
    "print(\"Running:\")\n",
    "print(\"- Python v\" + str(sys.version_info[0]) + \".\" + str(sys.version_info[2]))\n",
    "print(\"- Scikit Learn v\" + sklearn.__version__)\n",
    "print(\"- Seaborn v\" + seaborn.__version__)\n",
    "print(\"- Matplot Lib v\" + matplotlib.__version__)"
   ]
  },
  {
   "cell_type": "markdown",
   "metadata": {},
   "source": [
    "## Introduction\n",
    "This assignment will cover Feature Engineering, Model Development, and Model Evaluation and Comparisons as it pertains to the training of a machine learning algorithm (specifically, one built upon a Naive Bayes Model) to predict if a patient scheduled for an appointement will indeed make it to their appointment or not. The data available for the predictions are as follows:\n",
    "- Patient Age\n",
    "- Patient Gender\n",
    "- Patient Appointment Date\n",
    "- Patients' Diseases\n",
    "\n",
    "## Feature Engineering\n",
    "This section will cover feature engineering steps "
   ]
  },
  {
   "cell_type": "code",
   "execution_count": null,
   "metadata": {},
   "outputs": [],
   "source": []
  }
 ],
 "metadata": {
  "interpreter": {
   "hash": "2be5faf79681da6f2a61fdfdd5405d65d042280f7fba6178067603e3a2925119"
  },
  "kernelspec": {
   "display_name": "Python 3.10.2 64-bit",
   "language": "python",
   "name": "python3"
  },
  "language_info": {
   "codemirror_mode": {
    "name": "ipython",
    "version": 3
   },
   "file_extension": ".py",
   "mimetype": "text/x-python",
   "name": "python",
   "nbconvert_exporter": "python",
   "pygments_lexer": "ipython3",
   "version": "3.10.2"
  },
  "orig_nbformat": 4
 },
 "nbformat": 4,
 "nbformat_minor": 2
}
