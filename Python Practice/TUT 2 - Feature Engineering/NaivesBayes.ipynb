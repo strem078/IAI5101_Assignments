{
  "nbformat": 4,
  "nbformat_minor": 0,
  "metadata": {
    "colab": {
      "name": "NaivesBayes.ipynb",
      "provenance": [],
      "collapsed_sections": []
    },
    "kernelspec": {
      "name": "python3",
      "display_name": "Python 3"
    },
    "language_info": {
      "name": "python"
    }
  },
  "cells": [
    {
      "cell_type": "code",
      "execution_count": null,
      "metadata": {
        "id": "JHNvsFw7JuWP"
      },
      "outputs": [],
      "source": [
        "#Loading the Dataset\n",
        "from sklearn.datasets import load_breast_cancer\n",
        " \n",
        "data_loaded = load_breast_cancer()\n",
        "X = data_loaded.data\n",
        "y = data_loaded.target  "
      ]
    },
    {
      "cell_type": "code",
      "source": [
        "#Splitting the dataset into training and testing variables\n",
        "from sklearn.model_selection import train_test_split\n",
        " \n",
        "X_train, X_test, y_train, y_test = train_test_split(X, y, test_size=0.2,random_state=20)\n",
        " \n",
        "#keeping 80% as training data and 20% as testing data."
      ],
      "metadata": {
        "id": "blZDo7o1J1gy"
      },
      "execution_count": null,
      "outputs": []
    },
    {
      "cell_type": "code",
      "source": [
        "from sklearn.naive_bayes import GaussianNB\n",
        " \n",
        "#Calling the Class\n",
        "naive_bayes = GaussianNB()\n",
        " \n",
        "#Fitting the data to the classifier\n",
        "naive_bayes.fit(X_train , y_train)\n",
        " \n",
        "#Predict on test data\n",
        "y_predicted = naive_bayes.predict(X_test)"
      ],
      "metadata": {
        "id": "4R3ivM38K85_"
      },
      "execution_count": null,
      "outputs": []
    },
    {
      "cell_type": "code",
      "source": [
        "#Import metrics class from sklearn\n",
        "from sklearn import metrics\n",
        " \n",
        "metrics.accuracy_score(y_predicted , y_test)"
      ],
      "metadata": {
        "colab": {
          "base_uri": "https://localhost:8080/"
        },
        "id": "2VN5sASKLHvC",
        "outputId": "26a43113-2d1d-4028-ccd8-e9f493863d69"
      },
      "execution_count": null,
      "outputs": [
        {
          "output_type": "execute_result",
          "data": {
            "text/plain": [
              "0.956140350877193"
            ]
          },
          "metadata": {},
          "execution_count": 8
        }
      ]
    }
  ]
}